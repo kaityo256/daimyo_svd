{
  "nbformat": 4,
  "nbformat_minor": 0,
  "metadata": {
    "colab": {
      "name": "daimyo_svd.ipynb",
      "provenance": [],
      "collapsed_sections": []
    },
    "kernelspec": {
      "name": "python3",
      "display_name": "Python 3"
    }
  },
  "cells": [
    {
      "cell_type": "code",
      "metadata": {
        "id": "guUIUC-y8OK8"
      },
      "source": [
        "from PIL import Image, ImageDraw, ImageFont\n",
        "import numpy as np\n",
        "from scipy import linalg"
      ],
      "execution_count": 1,
      "outputs": []
    },
    {
      "cell_type": "code",
      "metadata": {
        "id": "PowGZ0zC8H2o",
        "outputId": "8576cf63-044b-4c20-af37-1638cd0e3197",
        "colab": {
          "base_uri": "https://localhost:8080/",
          "height": 106
        }
      },
      "source": [
        "!apt-get -y install fonts-ipafont-gothic"
      ],
      "execution_count": 2,
      "outputs": [
        {
          "output_type": "stream",
          "text": [
            "Reading package lists... Done\n",
            "Building dependency tree       \n",
            "Reading state information... Done\n",
            "fonts-ipafont-gothic is already the newest version (00303-18ubuntu1).\n",
            "0 upgraded, 0 newly installed, 0 to remove and 21 not upgraded.\n"
          ],
          "name": "stdout"
        }
      ]
    },
    {
      "cell_type": "code",
      "metadata": {
        "id": "bVIz1xPv8Xkh"
      },
      "source": [
        "fpath='/usr/share/fonts/opentype/ipafont-gothic/ipagp.ttf'\n",
        "fontsize = 50\n",
        "font = ImageFont.truetype(fpath, fontsize)"
      ],
      "execution_count": 3,
      "outputs": []
    },
    {
      "cell_type": "code",
      "metadata": {
        "id": "qsMgDHJp8gdF",
        "outputId": "68b4528c-be3a-4d2b-ed8c-2ea087e49e1e",
        "colab": {
          "base_uri": "https://localhost:8080/",
          "height": 67
        }
      },
      "source": [
        "LX = 200\n",
        "LY = fontsize\n",
        "img  = Image.new('L', (LX,LY),color=255)\n",
        "draw = ImageDraw.Draw(img)\n",
        "draw.text((0,0), \"大名行列\", fill=0, font=font)\n",
        "img"
      ],
      "execution_count": 4,
      "outputs": [
        {
          "output_type": "execute_result",
          "data": {
            "image/png": "[encoded data removed]",
            "text/plain": [
              "<PIL.Image.Image image mode=L size=200x50 at 0x7F31DF2B8240>"
            ]
          },
          "metadata": {
            "tags": []
          },
          "execution_count": 4
        }
      ]
    },
    {
      "cell_type": "code",
      "metadata": {
        "id": "8Q3v5msD8os2"
      },
      "source": [
        "data = np.array(img.getdata()).reshape((LY,LX))"
      ],
      "execution_count": 5,
      "outputs": []
    },
    {
      "cell_type": "code",
      "metadata": {
        "id": "qWZ-0Ect7RbE",
        "outputId": "796d31e2-9e40-4aff-88a7-713411f3dfa7",
        "colab": {
          "base_uri": "https://localhost:8080/",
          "height": 67
        }
      },
      "source": [
        "Image.fromarray(np.uint8(data))"
      ],
      "execution_count": 6,
      "outputs": [
        {
          "output_type": "execute_result",
          "data": {
            "image/png": "[encoded data removed]",
            "text/plain": [
              "<PIL.Image.Image image mode=L size=200x50 at 0x7F31DF2A7E10>"
            ]
          },
          "metadata": {
            "tags": []
          },
          "execution_count": 6
        }
      ]
    },
    {
      "cell_type": "code",
      "metadata": {
        "id": "8UmUiwpN_KNT",
        "outputId": "485d9a91-ff18-4d69-94d2-dcc188345b91",
        "colab": {
          "base_uri": "https://localhost:8080/",
          "height": 35
        }
      },
      "source": [
        "np.linalg.matrix_rank(data)"
      ],
      "execution_count": 7,
      "outputs": [
        {
          "output_type": "execute_result",
          "data": {
            "text/plain": [
              "47"
            ]
          },
          "metadata": {
            "tags": []
          },
          "execution_count": 7
        }
      ]
    },
    {
      "cell_type": "code",
      "metadata": {
        "id": "MvweEbCP2Z64"
      },
      "source": [
        "u, s, v = linalg.svd(data)"
      ],
      "execution_count": 8,
      "outputs": []
    },
    {
      "cell_type": "code",
      "metadata": {
        "id": "3HG9sJnOmrv7",
        "outputId": "7a83dadd-6f21-4889-9d5b-bdbdbdc071dc",
        "colab": {
          "base_uri": "https://localhost:8080/",
          "height": 70
        }
      },
      "source": [
        "print(f\"u: {u.shape}\")\n",
        "print(f\"s: {s.shape}\")\n",
        "print(f\"v: {v.shape}\")"
      ],
      "execution_count": 9,
      "outputs": [
        {
          "output_type": "stream",
          "text": [
            "u: (50, 50)\n",
            "s: (50,)\n",
            "v: (200, 200)\n"
          ],
          "name": "stdout"
        }
      ]
    },
    {
      "cell_type": "code",
      "metadata": {
        "id": "uMsS4slI3Gup"
      },
      "source": [
        "r = 10\n",
        "ur = u[:, :r]\n",
        "sr = np.diag(np.sqrt(s[:r]))\n",
        "vr = v[:r, :]\n",
        "A = ur @ sr\n",
        "B = sr @ vr"
      ],
      "execution_count": 10,
      "outputs": []
    },
    {
      "cell_type": "code",
      "metadata": {
        "id": "NEs5Ro03pgsy",
        "outputId": "5da2dff9-ae20-4e7f-8d41-dce79b17de7b",
        "colab": {
          "base_uri": "https://localhost:8080/",
          "height": 70
        }
      },
      "source": [
        "print(f\"A: {A.shape}\")\n",
        "print(f\"B: {B.shape}\")\n",
        "print(f\"AB: {(A @ B).shape}\")"
      ],
      "execution_count": 11,
      "outputs": [
        {
          "output_type": "stream",
          "text": [
            "A: (50, 10)\n",
            "B: (10, 200)\n",
            "AB: (50, 200)\n"
          ],
          "name": "stdout"
        }
      ]
    },
    {
      "cell_type": "code",
      "metadata": {
        "id": "viQkk-HS6RPg",
        "outputId": "c3ae5c93-677e-4980-c3a7-397cd23e8c70",
        "colab": {
          "base_uri": "https://localhost:8080/",
          "height": 35
        }
      },
      "source": [
        "np.linalg.matrix_rank(A @ B)"
      ],
      "execution_count": 12,
      "outputs": [
        {
          "output_type": "execute_result",
          "data": {
            "text/plain": [
              "10"
            ]
          },
          "metadata": {
            "tags": []
          },
          "execution_count": 12
        }
      ]
    },
    {
      "cell_type": "code",
      "metadata": {
        "id": "0u7YTq-l9D5J",
        "outputId": "20598e81-fefc-49a7-c658-6f39ea8d1bb8",
        "colab": {
          "base_uri": "https://localhost:8080/",
          "height": 35
        }
      },
      "source": [
        "print((A.size + B.size)/data.size)"
      ],
      "execution_count": 13,
      "outputs": [
        {
          "output_type": "stream",
          "text": [
            "0.25\n"
          ],
          "name": "stdout"
        }
      ]
    },
    {
      "cell_type": "code",
      "metadata": {
        "id": "HX-reAgW9Gxe",
        "outputId": "bdfadad9-c908-48f5-9e93-0c33aa2ebfb5",
        "colab": {
          "base_uri": "https://localhost:8080/",
          "height": 67
        }
      },
      "source": [
        "b = np.asarray(A @ B)\n",
        "b = np.clip(b, 0, 255)\n",
        "Image.fromarray(np.uint8(b))"
      ],
      "execution_count": 14,
      "outputs": [
        {
          "output_type": "execute_result",
          "data": {
            "image/png": "[encoded data removed]",
            "text/plain": [
              "<PIL.Image.Image image mode=L size=200x50 at 0x7F31DE19AB00>"
            ]
          },
          "metadata": {
            "tags": []
          },
          "execution_count": 14
        }
      ]
    },
    {
      "cell_type": "code",
      "metadata": {
        "id": "7U8EsbdTcM3P",
        "outputId": "04cf7ebc-a3cd-4e62-8893-d9696af6550a",
        "colab": {
          "base_uri": "https://localhost:8080/",
          "height": 67
        }
      },
      "source": [
        "r = 3\n",
        "ur = u[:, :r]\n",
        "sr = np.diag(np.sqrt(s[:r]))\n",
        "vr = v[:r, :]\n",
        "A = ur @ sr\n",
        "B = sr @ vr\n",
        "b = np.asarray(A @ B)\n",
        "b = np.clip(b, 0, 255)\n",
        "Image.fromarray(np.uint8(b))"
      ],
      "execution_count": 15,
      "outputs": [
        {
          "output_type": "execute_result",
          "data": {
            "image/png": "[encoded data removed]",
            "text/plain": [
              "<PIL.Image.Image image mode=L size=200x50 at 0x7F31DE1AF588>"
            ]
          },
          "metadata": {
            "tags": []
          },
          "execution_count": 15
        }
      ]
    },
    {
      "cell_type": "code",
      "metadata": {
        "id": "waD1XCCQcR6h"
      },
      "source": [
        ""
      ],
      "execution_count": 15,
      "outputs": []
    }
  ]
}