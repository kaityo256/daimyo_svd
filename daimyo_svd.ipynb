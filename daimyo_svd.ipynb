{
  "nbformat": 4,
  "nbformat_minor": 0,
  "metadata": {
    "colab": {
      "name": "daimyo_svd.ipynb",
      "provenance": [],
      "collapsed_sections": []
    },
    "kernelspec": {
      "name": "python3",
      "display_name": "Python 3"
    }
  },
  "cells": [
    {
      "cell_type": "code",
      "metadata": {
        "id": "guUIUC-y8OK8"
      },
      "source": [
        "from PIL import Image, ImageDraw, ImageFont\n",
        "import numpy as np\n",
        "from scipy import linalg"
      ],
      "execution_count": 1,
      "outputs": []
    },
    {
      "cell_type": "code",
      "metadata": {
        "id": "PowGZ0zC8H2o",
        "outputId": "90b28a82-7df2-4565-ec64-e93f502f009b",
        "colab": {
          "base_uri": "https://localhost:8080/",
          "height": 102
        }
      },
      "source": [
        "!apt-get -y install fonts-ipafont-gothic"
      ],
      "execution_count": 2,
      "outputs": [
        {
          "output_type": "stream",
          "text": [
            "Reading package lists... Done\n",
            "Building dependency tree       \n",
            "Reading state information... Done\n",
            "fonts-ipafont-gothic is already the newest version (00303-18ubuntu1).\n",
            "0 upgraded, 0 newly installed, 0 to remove and 21 not upgraded.\n"
          ],
          "name": "stdout"
        }
      ]
    },
    {
      "cell_type": "code",
      "metadata": {
        "id": "bVIz1xPv8Xkh"
      },
      "source": [
        "fpath='/usr/share/fonts/opentype/ipafont-gothic/ipagp.ttf'\n",
        "fontsize = 50\n",
        "font = ImageFont.truetype(fpath, fontsize)"
      ],
      "execution_count": 3,
      "outputs": []
    },
    {
      "cell_type": "code",
      "metadata": {
        "id": "qsMgDHJp8gdF",
        "outputId": "c2925636-242b-45cf-dfef-859f7762fa32",
        "colab": {
          "base_uri": "https://localhost:8080/",
          "height": 67
        }
      },
      "source": [
        "LX = 200\n",
        "LY = fontsize\n",
        "img  = Image.new('L', (LX,LY),color=255)\n",
        "draw = ImageDraw.Draw(img)\n",
        "draw.text((0,0), \"大名行列\", fill=0, font=font)\n",
        "img"
      ],
      "execution_count": 4,
      "outputs": [
        {
          "output_type": "execute_result",
          "data": {
            "image/png": "[encoded data removed]",
            "text/plain": [
              "<PIL.Image.Image image mode=L size=200x50 at 0x7F514EA7F208>"
            ]
          },
          "metadata": {
            "tags": []
          },
          "execution_count": 4
        }
      ]
    },
    {
      "cell_type": "code",
      "metadata": {
        "id": "8Q3v5msD8os2"
      },
      "source": [
        "data = np.array(img.getdata()).reshape((LY,LX))"
      ],
      "execution_count": 5,
      "outputs": []
    },
    {
      "cell_type": "code",
      "metadata": {
        "id": "qWZ-0Ect7RbE",
        "outputId": "b95f66af-1877-4034-98f9-4766f56d0ad9",
        "colab": {
          "base_uri": "https://localhost:8080/",
          "height": 67
        }
      },
      "source": [
        "Image.fromarray(np.uint8(data))"
      ],
      "execution_count": 6,
      "outputs": [
        {
          "output_type": "execute_result",
          "data": {
            "image/png": "[encoded data removed]",
            "text/plain": [
              "<PIL.Image.Image image mode=L size=200x50 at 0x7F514EA68DD8>"
            ]
          },
          "metadata": {
            "tags": []
          },
          "execution_count": 6
        }
      ]
    },
    {
      "cell_type": "code",
      "metadata": {
        "id": "8UmUiwpN_KNT",
        "outputId": "e7a53a76-1270-4770-9739-a384e0845191",
        "colab": {
          "base_uri": "https://localhost:8080/",
          "height": 34
        }
      },
      "source": [
        "np.linalg.matrix_rank(data)"
      ],
      "execution_count": 7,
      "outputs": [
        {
          "output_type": "execute_result",
          "data": {
            "text/plain": [
              "47"
            ]
          },
          "metadata": {
            "tags": []
          },
          "execution_count": 7
        }
      ]
    },
    {
      "cell_type": "code",
      "metadata": {
        "id": "MvweEbCP2Z64"
      },
      "source": [
        "u, s, v = linalg.svd(data)"
      ],
      "execution_count": 8,
      "outputs": []
    },
    {
      "cell_type": "code",
      "metadata": {
        "id": "3HG9sJnOmrv7",
        "outputId": "57998bd5-18b2-485c-ac37-18c0e2990d06",
        "colab": {
          "base_uri": "https://localhost:8080/",
          "height": 68
        }
      },
      "source": [
        "print(f\"u: {u.shape}\")\n",
        "print(f\"s: {s.shape}\")\n",
        "print(f\"v: {v.shape}\")"
      ],
      "execution_count": 9,
      "outputs": [
        {
          "output_type": "stream",
          "text": [
            "u: (50, 50)\n",
            "s: (50,)\n",
            "v: (200, 200)\n"
          ],
          "name": "stdout"
        }
      ]
    },
    {
      "cell_type": "code",
      "metadata": {
        "id": "uMsS4slI3Gup"
      },
      "source": [
        "r = 10\n",
        "ur = u[:, :r]\n",
        "ss = np.sqrt(s)\n",
        "sr = np.matrix(linalg.diagsvd(ss[:r], r,r))\n",
        "vr = v[:r, :]\n",
        "A = ur*sr\n",
        "B = sr*vr"
      ],
      "execution_count": 10,
      "outputs": []
    },
    {
      "cell_type": "code",
      "metadata": {
        "id": "NEs5Ro03pgsy",
        "outputId": "6069fa40-931a-4c8e-b89c-fd8ad50b2bf2",
        "colab": {
          "base_uri": "https://localhost:8080/",
          "height": 68
        }
      },
      "source": [
        "print(f\"A: {A.shape}\")\n",
        "print(f\"B: {B.shape}\")\n",
        "print(f\"AB: {(A*B).shape}\")"
      ],
      "execution_count": 11,
      "outputs": [
        {
          "output_type": "stream",
          "text": [
            "A: (50, 10)\n",
            "B: (10, 200)\n",
            "AB: (50, 200)\n"
          ],
          "name": "stdout"
        }
      ]
    },
    {
      "cell_type": "code",
      "metadata": {
        "id": "viQkk-HS6RPg",
        "outputId": "3f4d077a-46d3-488f-b45a-37df638a5297",
        "colab": {
          "base_uri": "https://localhost:8080/",
          "height": 34
        }
      },
      "source": [
        "np.linalg.matrix_rank(A*B)"
      ],
      "execution_count": 12,
      "outputs": [
        {
          "output_type": "execute_result",
          "data": {
            "text/plain": [
              "10"
            ]
          },
          "metadata": {
            "tags": []
          },
          "execution_count": 12
        }
      ]
    },
    {
      "cell_type": "code",
      "metadata": {
        "id": "0u7YTq-l9D5J",
        "outputId": "4911eae3-20c3-483b-99af-6414778a5846",
        "colab": {
          "base_uri": "https://localhost:8080/",
          "height": 34
        }
      },
      "source": [
        "print((A.size + B.size)/data.size)"
      ],
      "execution_count": 13,
      "outputs": [
        {
          "output_type": "stream",
          "text": [
            "0.25\n"
          ],
          "name": "stdout"
        }
      ]
    },
    {
      "cell_type": "code",
      "metadata": {
        "id": "HX-reAgW9Gxe",
        "outputId": "07dbaa4f-68d7-43f3-9345-178d14567187",
        "colab": {
          "base_uri": "https://localhost:8080/",
          "height": 67
        }
      },
      "source": [
        "b = np.asarray(A*B)\n",
        "b = np.clip(b, 0, 255)\n",
        "Image.fromarray(np.uint8(b))"
      ],
      "execution_count": 14,
      "outputs": [
        {
          "output_type": "execute_result",
          "data": {
            "image/png": "[encoded data removed]",
            "text/plain": [
              "<PIL.Image.Image image mode=L size=200x50 at 0x7F514D958A20>"
            ]
          },
          "metadata": {
            "tags": []
          },
          "execution_count": 14
        }
      ]
    }
  ]
}